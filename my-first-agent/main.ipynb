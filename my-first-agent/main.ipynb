{
 "cells": [
  {
   "cell_type": "code",
   "execution_count": null,
   "id": "b19fdb5e",
   "metadata": {},
   "outputs": [],
   "source": [
    "import openai\n",
    "client = openai.OpenAI()\n",
    "\n",
    "message = []"
   ]
  },
  {
   "cell_type": "code",
   "execution_count": null,
   "id": "9a4a2d36",
   "metadata": {},
   "outputs": [],
   "source": [
    "def get_weather(city):\n",
    "    return '33 degrees celsius. '\n",
    "\n",
    "FUNCTION_MAP = {\n",
    "    \"get_weather\": get_weather\n",
    "}"
   ]
  },
  {
   "cell_type": "code",
   "execution_count": null,
   "id": "6f68a0f2",
   "metadata": {},
   "outputs": [],
   "source": [
    "TOOLS = [\n",
    "    {\n",
    "        'type': 'function',\n",
    "        'function': {\n",
    "            'name': 'get_weather',\n",
    "            'description': 'Get the current weather in a given city',\n",
    "            'parameters': {\n",
    "                'type': 'object',\n",
    "                'properties': {\n",
    "                    'city': {\n",
    "                        'type': 'string',\n",
    "                        'description': 'The name of the city to get the weather of.'\n",
    "                    }\n",
    "                },\n",
    "                'required': ['city']\n",
    "            }\n",
    "        }\n",
    "    }\n",
    "]\n",
    "\n",
    "'''\n",
    "[TOOLS] 를 추가하여 요청으로 보냄\n",
    "\n",
    "1. 사용자가 요청을 보낼 때 가지고 있는 함수(function)에 설명(description)을 같이 보냄\n",
    "\n",
    "2. AI는 사용자의 요청과 함수를 함께 보고, 사용자의 함수에서 실행하고 싶은 함수가 있으면 message.tool_calls에 담아서 보냄.\n",
    "\n",
    "3. message.tool_calls에 내용이 있다면 messages에 추가하고(이력을 남겨야 하므로), 다시 AI에게 요청.\n",
    "'''"
   ]
  },
  {
   "cell_type": "code",
   "execution_count": null,
   "id": "30717f95",
   "metadata": {},
   "outputs": [],
   "source": [
    "def call_ai():\n",
    "    response = client.chat.completions.create(\n",
    "        model='gpt-5-nano',\n",
    "        messages = message,\n",
    "        tools=TOOLS,\n",
    "    )\n",
    "    print(response)\n",
    "    message = response.choices[0].message.tool_calls\n",
    "    message.append({\"role\": \"assistant\", \"content\": message})\n",
    "\n",
    "    print(f\"AI: {message}\")"
   ]
  },
  {
   "cell_type": "code",
   "execution_count": null,
   "id": "6df3bba2",
   "metadata": {},
   "outputs": [],
   "source": [
    "while True:\n",
    "    message = input(\"Send a message to the LLM...\")\n",
    "    if message == \"quit\" or message == \"q\":\n",
    "        break\n",
    "    else:\n",
    "        message.append({\n",
    "            \"role\": \"user\",\n",
    "            \"content\": message\n",
    "        })\n",
    "        print(f\"User: {message}\")\n",
    "        call_ai()"
   ]
  }
 ],
 "metadata": {
  "kernelspec": {
   "display_name": ".venv",
   "language": "python",
   "name": "python3"
  },
  "language_info": {
   "codemirror_mode": {
    "name": "ipython",
    "version": 3
   },
   "file_extension": ".py",
   "mimetype": "text/x-python",
   "name": "python",
   "nbconvert_exporter": "python",
   "pygments_lexer": "ipython3",
   "version": "3.13.7"
  }
 },
 "nbformat": 4,
 "nbformat_minor": 5
}
