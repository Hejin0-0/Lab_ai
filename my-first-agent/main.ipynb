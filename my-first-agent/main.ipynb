{
 "cells": [
  {
   "cell_type": "code",
   "execution_count": null,
   "id": "b19fdb5e",
   "metadata": {},
   "outputs": [],
   "source": [
    "import openai\n",
    "\n",
    "client = openai.OpenAI()\n",
    "\n",
    "message = []"
   ]
  },
  {
   "cell_type": "code",
   "execution_count": null,
   "id": "30717f95",
   "metadata": {},
   "outputs": [],
   "source": [
    "def call_ai():\n",
    "    response = client.chat.completions.create(model='gpt-5-nano', messages = message)\n",
    "    message = response.choices[0].message.content\n",
    "    message.append({\"role\": \"assistant\", \"content\": message})\n",
    "\n",
    "    print(f\"AI: {message}\")"
   ]
  },
  {
   "cell_type": "code",
   "execution_count": null,
   "id": "6df3bba2",
   "metadata": {},
   "outputs": [],
   "source": [
    "while True:\n",
    "    message = input(\"Send a message to the LLM...\")\n",
    "    if message == \"quit\" or message == \"q\":\n",
    "        break\n",
    "    else:\n",
    "        message.append({\n",
    "            \"role\": \"user\",\n",
    "            \"content\": message\n",
    "        })\n",
    "        print(f\"User: {message}\")\n",
    "        call_ai()"
   ]
  },
  {
   "cell_type": "code",
   "execution_count": null,
   "id": "53cb1512",
   "metadata": {},
   "outputs": [],
   "source": []
  }
 ],
 "metadata": {
  "kernelspec": {
   "display_name": ".venv",
   "language": "python",
   "name": "python3"
  },
  "language_info": {
   "codemirror_mode": {
    "name": "ipython",
    "version": 3
   },
   "file_extension": ".py",
   "mimetype": "text/x-python",
   "name": "python",
   "nbconvert_exporter": "python",
   "pygments_lexer": "ipython3",
   "version": "3.13.7"
  }
 },
 "nbformat": 4,
 "nbformat_minor": 5
}
